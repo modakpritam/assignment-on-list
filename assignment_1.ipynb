{
 "cells": [
  {
   "cell_type": "code",
   "execution_count": 9,
   "metadata": {},
   "outputs": [
    {
     "name": "stdout",
     "output_type": "stream",
     "text": [
      "[22, 34, 55, 57, 1, 99]\n",
      "maximum element in the list:99\n"
     ]
    }
   ],
   "source": [
    "###TASK_1: FIND THE MAXIMUM ELEMENT IN A LIST\n",
    "list = [22, 34, 55, 57, 1, 99]\n",
    "print(list)\n",
    "list.sort()\n",
    "max = list[-1]\n",
    "print(f\"maximum element in the list:{max}\")\n",
    "\n"
   ]
  },
  {
   "cell_type": "code",
   "execution_count": 10,
   "metadata": {},
   "outputs": [
    {
     "name": "stdout",
     "output_type": "stream",
     "text": [
      "[22, 34, 55, 57, 1, 99]\n",
      "secnd maximum element in the list:57\n"
     ]
    }
   ],
   "source": [
    "###FIND THE SECOND MAXIMUM ELEMENT IN THE LIST\n",
    "list1 = [22, 34, 55, 57, 1, 99]\n",
    "print(list1)\n",
    "list1.sort()\n",
    "secnd_max = list1[-2]\n",
    "print(f\"secnd maximum element in the list:{secnd_max}\")\n"
   ]
  },
  {
   "cell_type": "code",
   "execution_count": 15,
   "metadata": {},
   "outputs": [
    {
     "name": "stdout",
     "output_type": "stream",
     "text": [
      "sort after merge: [1, 2, 3, 4, 5, 6, 7, 8, 9, 10]\n"
     ]
    }
   ],
   "source": [
    "####MERGE TWO LIST AND THEN SORT IT\n",
    "list2 = [2, 4, 6, 8, 10]\n",
    "list3 = [1, 3, 5, 7, 9]\n",
    "merge_of_list = list2 + list3\n",
    "#print(f\"merge of two list: {merge_of_list}\")\n",
    "merge_of_list.sort()\n",
    "print(f\"sort after merge: {merge_of_list}\")"
   ]
  },
  {
   "cell_type": "code",
   "execution_count": 17,
   "metadata": {},
   "outputs": [
    {
     "name": "stdout",
     "output_type": "stream",
     "text": [
      "[10, 4, 6, 7, 8, 2]\n"
     ]
    }
   ],
   "source": [
    "####SWAP FIRST AND LAST ELEMENT IN A LIST\n",
    "list4 = [2,4,6,7,8,10]\n",
    "list4[0],list4[-1]=list4[-1],list4[0]\n",
    "print(list4)"
   ]
  },
  {
   "cell_type": "code",
   "execution_count": null,
   "metadata": {},
   "outputs": [],
   "source": []
  }
 ],
 "metadata": {
  "kernelspec": {
   "display_name": "Python 3",
   "language": "python",
   "name": "python3"
  },
  "language_info": {
   "codemirror_mode": {
    "name": "ipython",
    "version": 3
   },
   "file_extension": ".py",
   "mimetype": "text/x-python",
   "name": "python",
   "nbconvert_exporter": "python",
   "pygments_lexer": "ipython3",
   "version": "3.7.4"
  }
 },
 "nbformat": 4,
 "nbformat_minor": 2
}
